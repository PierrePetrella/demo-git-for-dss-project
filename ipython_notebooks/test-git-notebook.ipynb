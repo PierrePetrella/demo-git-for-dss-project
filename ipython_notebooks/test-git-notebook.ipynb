{
  "metadata": {
    "kernelspec": {
      "display_name": "Python (env py37)",
      "language": "python",
      "name": "py-dku-venv-py37"
    },
    "creator": "pierrepetrella",
    "createdOn": 1658928594333,
    "tags": [],
    "customFields": {},
    "modifiedBy": "pierrepetrella",
    "dkuGit": {
      "gitReference": {
        "remote": "git@github.com:PierrePetrella/demo-git-for-dss-libraries.git",
        "checkout": "refs/heads/main",
        "remotePath": "notebooks/test-git-notebook.ipynb",
        "isDirty": false,
        "lastHash": "17a4f6d65738b1ec8b3fb07f41a13f8f1c66747d",
        "lastTimestamp": 1658928699000
      },
      "lastInteraction": 1658928755417
    }
  },
  "nbformat": 4,
  "nbformat_minor": 0,
  "cells": [
    {
      "execution_count": 0,
      "cell_type": "code",
      "metadata": {},
      "source": [
        "%pylab inline"
      ],
      "outputs": []
    },
    {
      "execution_count": 0,
      "cell_type": "code",
      "metadata": {},
      "source": [
        "import dataiku\nfrom dataiku import pandasutils as pdu\nimport pandas as pd"
      ],
      "outputs": []
    },
    {
      "execution_count": 0,
      "cell_type": "code",
      "metadata": {},
      "source": [
        "# Example: load a DSS dataset as a Pandas dataframe\nmydataset \u003d dataiku.Dataset(\"mydataset\")\nmydataset_df \u003d mydataset.get_dataframe()"
      ],
      "outputs": []
    },
    {
      "execution_count": 0,
      "cell_type": "code",
      "metadata": {},
      "source": [],
      "outputs": []
    }
  ]
}
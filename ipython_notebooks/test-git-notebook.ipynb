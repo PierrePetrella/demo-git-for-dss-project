{
  "metadata": {
    "kernelspec": {
      "display_name": "Python (env py37)",
      "name": "py-dku-venv-py37",
      "language": "python"
    },
    "language_info": {
      "mimetype": "text/x-python",
      "nbconvert_exporter": "python",
      "version": "3.7.12",
      "name": "python",
      "pygments_lexer": "ipython3",
      "file_extension": ".py",
      "codemirror_mode": {
        "version": 3,
        "name": "ipython"
      }
    },
    "dkuGit": {
      "gitReference": {
        "remote": "git@github.com:PierrePetrella/demo-git-for-dss-libraries.git",
        "remotePath": "notebooks/test-git-notebook.ipynb",
        "checkout": "refs/heads/main",
        "isDirty": false,
        "lastHash": "655510c942c5b0c1bd2d81d80bcfcad6adabb1d7",
        "lastTimestamp": 1658928953000
      },
      "lastInteraction": 1658928955464
    },
    "tags": [],
    "createdOn": 1658928594333,
    "hide_input": false,
    "modifiedBy": "pierrepetrella",
    "customFields": {},
    "creator": "pierrepetrella"
  },
  "nbformat": 4,
  "nbformat_minor": 1,
  "cells": [
    {
      "execution_count": 9,
      "cell_type": "code",
      "metadata": {},
      "source": [
        "import dataiku\nfrom dataiku import pandasutils as pdu\nimport pandas as pd"
      ],
      "outputs": []
    },
    {
      "execution_count": 11,
      "cell_type": "code",
      "metadata": {},
      "source": [
        "client \u003d dataiku.api_client()"
      ],
      "outputs": []
    },
    {
      "execution_count": 0,
      "cell_type": "code",
      "metadata": {},
      "source": [
        ""
      ],
      "outputs": []
    }
  ]
}
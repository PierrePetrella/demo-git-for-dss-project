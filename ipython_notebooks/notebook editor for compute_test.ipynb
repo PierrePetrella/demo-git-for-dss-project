{
  "metadata": {
    "kernelspec": {
      "display_name": "Python (env pytest_37)",
      "name": "py-dku-venv-pytest_37",
      "language": "python"
    },
    "language_info": {
      "mimetype": "text/x-python",
      "nbconvert_exporter": "python",
      "version": "3.7.12",
      "name": "python",
      "pygments_lexer": "ipython3",
      "file_extension": ".py",
      "codemirror_mode": {
        "version": 3,
        "name": "ipython"
      }
    },
    "tags": [
      "recipe-editor"
    ],
    "associatedRecipe": "compute_test",
    "createdOn": 1647423210822,
    "hide_input": false,
    "customFields": {},
    "creator": "pierrepetrella",
    "modifiedBy": "pierrepetrella"
  },
  "nbformat": 4,
  "nbformat_minor": 1,
  "cells": [
    {
      "execution_count": 0,
      "cell_type": "code",
      "metadata": {},
      "source": [
        "# -*- coding: utf-8 -*-\nimport dataiku\nimport pandas as pd, numpy as np\nfrom dataiku import pandasutils as pdu\nimport pytest\n\n\n\n\n# Write recipe outputs\ntest \u003d dataiku.Dataset(\"test\")\ntest.write_with_schema(pdDataFrame)"
      ],
      "outputs": []
    }
  ]
}
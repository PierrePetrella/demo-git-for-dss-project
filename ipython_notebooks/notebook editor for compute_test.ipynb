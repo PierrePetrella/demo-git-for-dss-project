{
  "metadata": {
    "kernelspec": {
      "display_name": "Python (env pytest_37)",
      "name": "py-dku-venv-pytest_37",
      "language": "python"
    },
    "language_info": {
      "mimetype": "text/x-python",
      "nbconvert_exporter": "python",
      "version": "3.7.12",
      "name": "python",
      "pygments_lexer": "ipython3",
      "file_extension": ".py",
      "codemirror_mode": {
        "version": 3,
        "name": "ipython"
      }
    },
    "dkuGit": {
      "lastInteraction": 0
    },
    "creator": "pierrepetrella",
    "associatedRecipe": "compute_test",
    "createdOn": 1647423210822,
    "hide_input": false,
    "creationTag": {
      "lastModifiedBy": {
        "login": "pierrepetrella"
      },
      "lastModifiedOn": 1647423210822,
      "versionNumber": 0
    },
    "customFields": {},
    "tags": [
      "recipe-editor"
    ],
    "modifiedBy": "pierrepetrella"
  },
  "nbformat": 4,
  "nbformat_minor": 1,
  "cells": [
    {
      "execution_count": 5,
      "cell_type": "code",
      "metadata": {},
      "source": [
        "# -*- coding: utf-8 -*-\nimport dataiku\nimport pandas as pd, numpy as np\nfrom dataiku import pandasutils as pdu\nimport pytest"
      ],
      "outputs": []
    },
    {
      "execution_count": 6,
      "cell_type": "code",
      "metadata": {
        "scrolled": true
      },
      "source": [
        "from test.run_tests import run_tests\nrun_tests()"
      ],
      "outputs": [
        {
          "output_type": "stream",
          "name": "stderr",
          "text": "ERROR: usage: ipykernel_launcher.py [options] [file_or_dir] [file_or_dir] [...]\nipykernel_launcher.py: error: unrecognized arguments: -f\n  inifile: None\n  rootdir: /Users/pierrepetrella/Documents/DSS/DSS10/dss-design-10/jupyter-run\n\n"
        },
        {
          "output_type": "execute_result",
          "metadata": {},
          "data": {
            "text/plain": "\u003cExitCode.USAGE_ERROR: 4\u003e"
          },
          "execution_count": 6
        }
      ]
    },
    {
      "execution_count": 0,
      "cell_type": "code",
      "metadata": {},
      "source": [
        "# Write recipe outputs\ntest \u003d dataiku.Dataset(\"test\")\ntest.write_with_schema(pd.DataFrame())"
      ],
      "outputs": []
    }
  ]
}
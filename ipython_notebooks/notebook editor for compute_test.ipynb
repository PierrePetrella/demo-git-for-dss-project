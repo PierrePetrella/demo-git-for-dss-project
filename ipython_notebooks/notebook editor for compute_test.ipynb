{
  "metadata": {
    "kernelspec": {
      "display_name": "Python (env pytest_37)",
      "name": "py-dku-venv-pytest_37",
      "language": "python"
    },
    "language_info": {
      "mimetype": "text/x-python",
      "nbconvert_exporter": "python",
      "version": "3.7.12",
      "name": "python",
      "pygments_lexer": "ipython3",
      "file_extension": ".py",
      "codemirror_mode": {
        "version": 3,
        "name": "ipython"
      }
    },
    "tags": [
      "recipe-editor"
    ],
    "associatedRecipe": "compute_test",
    "createdOn": 1647423210822,
    "hide_input": false,
    "customFields": {},
    "creator": "pierrepetrella",
    "modifiedBy": "pierrepetrella"
  },
  "nbformat": 4,
  "nbformat_minor": 1,
  "cells": [
    {
      "execution_count": 0,
      "cell_type": "code",
      "metadata": {},
      "source": [
        "# -*- coding: utf-8 -*-\nimport dataiku\nimport pandas as pd, numpy as np\nfrom dataiku import pandasutils as pdu\nimport pytest\n\n# Compute recipe outputs from inputs\n# TODO: Replace this part by your actual code that computes the output, as a Pandas dataframe\n# NB: DSS also supports other kinds of APIs for reading and writing data. Please see doc.\n\ntest_df \u003d Orders_enriched_df # For this sample code, simply copy input to output\n\n\n# Write recipe outputs\ntest \u003d dataiku.Dataset(\"test\")\ntest.write_with_schema(test_df)"
      ],
      "outputs": []
    }
  ]
}
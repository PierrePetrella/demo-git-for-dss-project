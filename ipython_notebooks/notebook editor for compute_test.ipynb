{
  "metadata": {
    "kernelspec": {
      "display_name": "Python (env py37)",
      "language": "python",
      "name": "py-dku-venv-py37"
    },
    "dkuGit": {
      "lastInteraction": 0
    },
    "creationTag": {
      "versionNumber": 0,
      "lastModifiedBy": {
        "login": "pierrepetrella"
      },
      "lastModifiedOn": 1647423210822
    },
    "creator": "pierrepetrella",
    "createdOn": 1647423210822,
    "tags": [
      "deleted-recipe-editor"
    ],
    "customFields": {}
  },
  "nbformat": 4,
  "nbformat_minor": 0,
  "cells": [
    {
      "execution_count": 0,
      "cell_type": "code",
      "metadata": {},
      "source": [
        "# -*- coding: utf-8 -*-\n",
        "import dataiku\n",
        "import pandas as pd, numpy as np\n",
        "from dataiku import pandasutils as pdu\n",
        "from remote_library.test.run_tests import run_tests"
      ],
      "outputs": []
    },
    {
      "execution_count": 0,
      "cell_type": "code",
      "metadata": {},
      "source": [
        "run_tests()"
      ],
      "outputs": []
    },
    {
      "execution_count": 0,
      "cell_type": "code",
      "metadata": {},
      "source": [
        "# Write recipe outputs\n",
        "#test \u003d dataiku.Dataset(\"test\")\n",
        "#test.write_with_schema(pd.DataFrame())\n",
        "# comment"
      ],
      "outputs": []
    }
  ]
}
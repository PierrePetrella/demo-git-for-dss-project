{
  "nbformat": 4,
  "nbformat_minor": 0,
  "metadata": {
    "kernelspec": {
      "display_name": "Python 2",
      "language": "python",
      "name": "python2"
    },
    "associatedRecipe": "compute_python_recipe_output",
    "creator": "pierrepetrella",
    "createdOn": 1643306261321,
    "tags": [
      "recipe-editor"
    ],
    "customFields": {}
  },
  "cells": [
    {
      "cell_type": "code",
      "metadata": {},
      "outputs": [],
      "execution_count": 0,
      "source": [
        "# -*- coding: utf-8 -*-\n",
        "import dataiku\n",
        "import pandas as pd, numpy as np\n",
        "from dataiku import pandasutils as pdu\n",
        "\n",
        "# Read recipe inputs\n",
        "Orders_enriched_prepared \u003d dataiku.Dataset(\"Orders_enriched_prepared\")\n",
        "Orders_enriched_prepared_df \u003d Orders_enriched_prepared.get_dataframe()\n",
        "\n",
        "\n",
        "python_recipe_output_df \u003d Orders_enriched_prepared_df.describe() # For this sample code, simply copy input to output\n",
        "\n",
        "\n",
        "# Write recipe outputs\n",
        "python_recipe_output \u003d dataiku.Dataset(\"python_recipe_output\")\n",
        "python_recipe_output.write_with_schema(python_recipe_output_df)"
      ]
    }
  ]
}
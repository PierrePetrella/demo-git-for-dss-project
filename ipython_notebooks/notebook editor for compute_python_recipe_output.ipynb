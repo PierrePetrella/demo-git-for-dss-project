{
  "metadata": {
    "kernelspec": {
      "display_name": "Python 2",
      "name": "python2",
      "language": "python"
    },
    "language_info": {
      "mimetype": "text/x-python",
      "nbconvert_exporter": "python",
      "version": "2.7.16",
      "name": "python",
      "pygments_lexer": "ipython2",
      "file_extension": ".py",
      "codemirror_mode": {
        "version": 2,
        "name": "ipython"
      }
    },
    "tags": [
      "recipe-editor"
    ],
    "associatedRecipe": "compute_python_recipe_output",
    "createdOn": 1643306261321,
    "hide_input": false,
    "modifiedBy": "pierrepetrella",
    "customFields": {},
    "creator": "pierrepetrella"
  },
  "nbformat": 4,
  "nbformat_minor": 1,
  "cells": [
    {
      "execution_count": 0,
      "cell_type": "code",
      "metadata": {},
      "source": [
        "# -*- coding: utf-8 -*-\nimport dataiku\nimport pandas as pd, numpy as np\nfrom dataiku import pandasutils as pdu\n\n# Read recipe inputs\nOrders_enriched_prepared \u003d dataiku.Dataset(\"Orders_enriched_prepared\")\nOrders_enriched_prepared_df \u003d Orders_enriched_prepared.get_dataframe()\n\n\npython_recipe_output_df \u003d Orders_enriched_prepared_df.describe() # For this sample code, simply copy input to output\n\n\n# Write recipe outputs\npython_recipe_output \u003d dataiku.Dataset(\"python_recipe_output\")\npython_recipe_output.write_with_schema(python_recipe_output_df)\nprint (\"hello1\")"
      ],
      "outputs": []
    }
  ]
}
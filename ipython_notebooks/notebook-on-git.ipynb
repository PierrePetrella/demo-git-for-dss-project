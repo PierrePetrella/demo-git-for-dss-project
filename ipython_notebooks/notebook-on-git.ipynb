{
  "metadata": {
    "kernelspec": {
      "display_name": "Python (env py37)",
      "language": "python",
      "name": "py-dku-venv-py37"
    },
    "creator": "pierrepetrella",
    "createdOn": 1659016110197,
    "tags": [],
    "customFields": {},
    "dkuGit": {
      "gitReference": {
        "remote": "git@github.com:PierrePetrella/demo-git-for-dss-libraries.git",
        "checkout": "refs/heads/main",
        "remotePath": "notebooks/notebook-on-git.ipynb",
        "isDirty": false,
        "lastHash": "07bd25c259f4d70a9980f7b0df3acad69ba30c47",
        "lastTimestamp": 1659016167000
      },
      "lastInteraction": 1659016169394
    }
  },
  "nbformat": 4,
  "nbformat_minor": 0,
  "cells": [
    {
      "execution_count": 0,
      "cell_type": "code",
      "metadata": {},
      "source": [
        "%pylab inline"
      ],
      "outputs": []
    },
    {
      "execution_count": 0,
      "cell_type": "code",
      "metadata": {},
      "source": [
        "import dataiku\nfrom dataiku import pandasutils as pdu\nimport pandas as pd"
      ],
      "outputs": []
    },
    {
      "execution_count": 0,
      "cell_type": "code",
      "metadata": {},
      "source": [
        "# Example: load a DSS dataset as a Pandas dataframe\nmydataset \u003d dataiku.Dataset(\"mydataset\")\nmydataset_df \u003d mydataset.get_dataframe()"
      ],
      "outputs": []
    },
    {
      "execution_count": 0,
      "cell_type": "code",
      "metadata": {},
      "source": [],
      "outputs": []
    }
  ]
}
{
  "metadata": {
    "kernelspec": {
      "display_name": "Python (env py37)",
      "name": "py-dku-venv-py37",
      "language": "python"
    },
    "language_info": {
      "mimetype": "text/x-python",
      "nbconvert_exporter": "python",
      "version": "3.7.12",
      "name": "python",
      "pygments_lexer": "ipython3",
      "file_extension": ".py",
      "codemirror_mode": {
        "version": 3,
        "name": "ipython"
      }
    },
    "dkuGit": {
      "gitReference": {
        "remote": "git@github.com:PierrePetrella/demo-git-for-dss-libraries.git",
        "remotePath": "notebooks/notebook-on-git.ipynb",
        "checkout": "refs/heads/main",
        "isDirty": false,
        "lastHash": "ef28014a20a1660059e215bb325c6f12f039c3c7",
        "lastTimestamp": 1659016352000
      },
      "lastInteraction": 1659016354195
    },
    "tags": [],
    "createdOn": 1659016110197,
    "hide_input": false,
    "customFields": {},
    "creator": "pierrepetrella",
    "modifiedBy": "pierrepetrella"
  },
  "nbformat": 4,
  "nbformat_minor": 1,
  "cells": [
    {
      "execution_count": 0,
      "cell_type": "code",
      "metadata": {},
      "source": [
        "%pylab inline"
      ],
      "outputs": []
    },
    {
      "execution_count": 1,
      "cell_type": "code",
      "metadata": {},
      "source": [
        "import dataiku\nfrom dataiku import pandasutils as pdu\nimport pandas as pd"
      ],
      "outputs": []
    },
    {
      "execution_count": 0,
      "cell_type": "code",
      "metadata": {},
      "source": [
        "# Example: load a DSS dataset as a Pandas dataframe\nmydataset \u003d dataiku.Dataset(\"mydataset\")\nmydataset_df \u003d mydataset.get_dataframe()"
      ],
      "outputs": []
    },
    {
      "execution_count": 2,
      "cell_type": "code",
      "metadata": {},
      "source": [
        "client \u003d dataiku.api_client()"
      ],
      "outputs": []
    },
    {
      "execution_count": 0,
      "cell_type": "code",
      "metadata": {},
      "source": [
        ""
      ],
      "outputs": []
    }
  ]
}
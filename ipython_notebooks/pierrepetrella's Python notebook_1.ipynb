{
  "metadata": {
    "kernelspec": {
      "display_name": "Python 2",
      "language": "python",
      "name": "python2"
    },
    "creator": "pierrepetrella",
    "createdOn": 1643974193345,
    "tags": [],
    "customFields": {},
    "dkuGit": {
      "gitReference": {
        "remote": "git@github.com:PierrePetrella/demo-git-for-dss-libraries.git",
        "checkout": "refs/heads/main",
        "remotePath": "notebooks/pierrepetrella\u0027s Python notebook_1.ipynb",
        "isDirty": false,
        "lastHash": "decc3ce71b2daa6ae6b867dfc35b2ad9e0cf759e",
        "lastTimestamp": 1643974232000
      },
      "lastInteraction": 1643974234709
    }
  },
  "nbformat": 4,
  "nbformat_minor": 0,
  "cells": [
    {
      "execution_count": 0,
      "cell_type": "code",
      "metadata": {},
      "source": [
        "%pylab inline"
      ],
      "outputs": []
    },
    {
      "execution_count": 0,
      "cell_type": "code",
      "metadata": {},
      "source": [
        "import dataiku\nfrom dataiku import pandasutils as pdu\nimport pandas as pd"
      ],
      "outputs": []
    },
    {
      "execution_count": 0,
      "cell_type": "code",
      "metadata": {},
      "source": [
        "# Example: load a DSS dataset as a Pandas dataframe\nmydataset \u003d dataiku.Dataset(\"mydataset\")\nmydataset_df \u003d mydataset.get_dataframe()"
      ],
      "outputs": []
    },
    {
      "execution_count": 0,
      "cell_type": "code",
      "metadata": {},
      "source": [],
      "outputs": []
    }
  ]
}
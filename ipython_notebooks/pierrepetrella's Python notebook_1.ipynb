{
  "metadata": {
    "kernelspec": {
      "display_name": "Python 2",
      "name": "python2",
      "language": "python"
    },
    "language_info": {
      "mimetype": "text/x-python",
      "nbconvert_exporter": "python",
      "version": "2.7.16",
      "name": "python",
      "pygments_lexer": "ipython2",
      "file_extension": ".py",
      "codemirror_mode": {
        "version": 2,
        "name": "ipython"
      }
    },
    "dkuGit": {
      "gitReference": {
        "remote": "git@github.com:PierrePetrella/demo-git-for-dss-libraries.git",
        "remotePath": "notebooks/pierrepetrella\u0027s Python notebook_1.ipynb",
        "checkout": "refs/heads/main",
        "isDirty": false,
        "lastHash": "735da0fd83f1ded4c8c404a072ee899d6d70c7b0",
        "lastTimestamp": 1658936241000
      },
      "lastInteraction": 1658936242564
    },
    "tags": [],
    "createdOn": 1643974193345,
    "hide_input": false,
    "modifiedBy": "pierrepetrella",
    "customFields": {},
    "creator": "pierrepetrella"
  },
  "nbformat": 4,
  "nbformat_minor": 1,
  "cells": [
    {
      "execution_count": 0,
      "cell_type": "code",
      "metadata": {},
      "source": [
        "%pylab inline"
      ],
      "outputs": []
    },
    {
      "execution_count": 0,
      "cell_type": "code",
      "metadata": {},
      "source": [
        "import dataiku\nfrom dataiku import pandasutils as pdu\nimport pandas as pd"
      ],
      "outputs": []
    },
    {
      "execution_count": 0,
      "cell_type": "code",
      "metadata": {},
      "source": [
        "# Example: load a DSS dataset as a Pandas dataframe\nmydataset \u003d dataiku.Dataset(\"mydataset\")\nmydataset_df \u003d mydataset.get_dataframe()"
      ],
      "outputs": []
    },
    {
      "execution_count": 0,
      "cell_type": "code",
      "metadata": {},
      "source": [
        "#hello"
      ],
      "outputs": []
    }
  ]
}
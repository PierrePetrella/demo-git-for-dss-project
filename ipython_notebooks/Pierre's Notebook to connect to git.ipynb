{
  "metadata": {
    "kernelspec": {
      "display_name": "Python (env py37)",
      "name": "py-dku-venv-py37",
      "language": "python"
    },
    "language_info": {
      "mimetype": "text/x-python",
      "nbconvert_exporter": "python",
      "version": "3.7.12",
      "name": "python",
      "pygments_lexer": "ipython3",
      "file_extension": ".py",
      "codemirror_mode": {
        "version": 3,
        "name": "ipython"
      }
    },
    "dkuGit": {
      "gitReference": {
        "remote": "git@github.com:PierrePetrella/demo-git-for-dss-libraries.git",
        "remotePath": "notebooks/Pierre\u0027s Notebook to connect to git.ipynb",
        "lastHash": "af3694fc8e7ddac5939e2ebda110a93c829578cf",
        "checkout": "refs/heads/main",
        "lastTimestamp": 1643305133000,
        "isDirty": false
      },
      "lastInteraction": 1643305135758
    },
    "creator": "pierrepetrella",
    "createdOn": 1643304914275,
    "hide_input": false,
    "modifiedBy": "pierrepetrella",
    "customFields": {},
    "tags": []
  },
  "nbformat": 4,
  "nbformat_minor": 1,
  "cells": [
    {
      "execution_count": 0,
      "cell_type": "code",
      "metadata": {},
      "source": [
        "import dataiku\nfrom dataiku import pandasutils as pdu\nimport pandas as pd"
      ],
      "outputs": []
    },
    {
      "execution_count": 0,
      "cell_type": "code",
      "metadata": {},
      "source": [
        "# Example: load a DSS dataset as a Pandas dataframe\nmydataset \u003d dataiku.Dataset(\"mydataset\")\nmydataset_df \u003d mydataset.get_dataframe()"
      ],
      "outputs": []
    },
    {
      "execution_count": 0,
      "cell_type": "code",
      "metadata": {},
      "source": [
        "print (\"hello\")"
      ],
      "outputs": []
    }
  ]
}
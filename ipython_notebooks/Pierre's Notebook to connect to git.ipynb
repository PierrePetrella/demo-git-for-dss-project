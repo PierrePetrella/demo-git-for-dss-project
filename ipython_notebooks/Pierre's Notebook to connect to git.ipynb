{
  "metadata": {
    "kernelspec": {
      "display_name": "Python (env basic_37)",
      "name": "py-dku-venv-basic_37",
      "language": "python"
    },
    "language_info": {
      "mimetype": "text/x-python",
      "nbconvert_exporter": "python",
      "version": "3.7.12",
      "name": "python",
      "pygments_lexer": "ipython3",
      "file_extension": ".py",
      "codemirror_mode": {
        "version": 3,
        "name": "ipython"
      }
    },
    "creator": "pierrepetrella",
    "createdOn": 1643304914275,
    "hide_input": false,
    "customFields": {},
    "tags": [],
    "modifiedBy": "pierrepetrella",
    "dkuGit": {
      "gitReference": {
        "remote": "git@github.com:PierrePetrella/demo-git-for-dss-libraries.git",
        "checkout": "refs/heads/main",
        "remotePath": "notebooks/Pierre\u0027s Notebook to connect to git.ipynb",
        "isDirty": false
      },
      "lastInteraction": 1643305114775
    }
  },
  "nbformat": 4,
  "nbformat_minor": 1,
  "cells": [
    {
      "execution_count": 0,
      "cell_type": "code",
      "metadata": {},
      "source": [
        "import dataiku\nfrom dataiku import pandasutils as pdu\nimport pandas as pd"
      ],
      "outputs": []
    },
    {
      "execution_count": 0,
      "cell_type": "code",
      "metadata": {},
      "source": [
        "# Example: load a DSS dataset as a Pandas dataframe\nmydataset \u003d dataiku.Dataset(\"mydataset\")\nmydataset_df \u003d mydataset.get_dataframe()"
      ],
      "outputs": []
    },
    {
      "execution_count": 0,
      "cell_type": "code",
      "metadata": {},
      "source": [
        ""
      ],
      "outputs": []
    }
  ]
}